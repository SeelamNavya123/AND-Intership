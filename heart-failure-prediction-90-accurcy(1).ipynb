{
 "cells": [
  {
   "cell_type": "code",
   "execution_count": 1,
   "id": "371b5d4e",
   "metadata": {
    "_cell_guid": "b1076dfc-b9ad-4769-8c92-a6c4dae69d19",
    "_uuid": "8f2839f25d086af736a60e9eeb907d3b93b6e0e5",
    "execution": {
     "iopub.execute_input": "2024-04-12T03:46:50.293618Z",
     "iopub.status.busy": "2024-04-12T03:46:50.293110Z",
     "iopub.status.idle": "2024-04-12T03:46:53.873082Z",
     "shell.execute_reply": "2024-04-12T03:46:53.871950Z"
    },
    "papermill": {
     "duration": 3.594028,
     "end_time": "2024-04-12T03:46:53.876183",
     "exception": false,
     "start_time": "2024-04-12T03:46:50.282155",
     "status": "completed"
    },
    "tags": []
   },
   "outputs": [],
   "source": [
    "import pandas as pd\n",
    "import numpy as np\n",
    "import seaborn as sns\n",
    "import matplotlib.pyplot as plt\n",
    "%matplotlib inline\n",
    "import warnings\n",
    "warnings.filterwarnings(\"ignore\")\n",
    "\n",
    "from sklearn.model_selection import train_test_split\n",
    "from sklearn.preprocessing import StandardScaler\n",
    "from scipy.stats import skew \n",
    "from sklearn import linear_model\n",
    "\n",
    "from sklearn.ensemble import RandomForestClassifier\n",
    "from sklearn.metrics import accuracy_score\n",
    "from sklearn.metrics import confusion_matrix\n",
    "from sklearn.ensemble import RandomForestClassifier \n"
   ]
  },
  {
   "cell_type": "code",
   "execution_count": 2,
   "id": "3e9bdca9",
   "metadata": {
    "execution": {
     "iopub.execute_input": "2024-04-12T03:46:53.899895Z",
     "iopub.status.busy": "2024-04-12T03:46:53.899273Z",
     "iopub.status.idle": "2024-04-12T03:46:53.967165Z",
     "shell.execute_reply": "2024-04-12T03:46:53.965490Z"
    },
    "papermill": {
     "duration": 0.0829,
     "end_time": "2024-04-12T03:46:53.969778",
     "exception": false,
     "start_time": "2024-04-12T03:46:53.886878",
     "status": "completed"
    },
    "tags": []
   },
   "outputs": [
    {
     "data": {
      "text/html": [
       "<div>\n",
       "<style scoped>\n",
       "    .dataframe tbody tr th:only-of-type {\n",
       "        vertical-align: middle;\n",
       "    }\n",
       "\n",
       "    .dataframe tbody tr th {\n",
       "        vertical-align: top;\n",
       "    }\n",
       "\n",
       "    .dataframe thead th {\n",
       "        text-align: right;\n",
       "    }\n",
       "</style>\n",
       "<table border=\"1\" class=\"dataframe\">\n",
       "  <thead>\n",
       "    <tr style=\"text-align: right;\">\n",
       "      <th></th>\n",
       "      <th>Age</th>\n",
       "      <th>Sex</th>\n",
       "      <th>ChestPainType</th>\n",
       "      <th>RestingBP</th>\n",
       "      <th>Cholesterol</th>\n",
       "      <th>FastingBS</th>\n",
       "      <th>RestingECG</th>\n",
       "      <th>MaxHR</th>\n",
       "      <th>ExerciseAngina</th>\n",
       "      <th>Oldpeak</th>\n",
       "      <th>ST_Slope</th>\n",
       "      <th>HeartDisease</th>\n",
       "    </tr>\n",
       "  </thead>\n",
       "  <tbody>\n",
       "    <tr>\n",
       "      <th>0</th>\n",
       "      <td>40</td>\n",
       "      <td>M</td>\n",
       "      <td>ATA</td>\n",
       "      <td>140</td>\n",
       "      <td>289</td>\n",
       "      <td>0</td>\n",
       "      <td>Normal</td>\n",
       "      <td>172</td>\n",
       "      <td>N</td>\n",
       "      <td>0.0</td>\n",
       "      <td>Up</td>\n",
       "      <td>0</td>\n",
       "    </tr>\n",
       "    <tr>\n",
       "      <th>1</th>\n",
       "      <td>49</td>\n",
       "      <td>F</td>\n",
       "      <td>NAP</td>\n",
       "      <td>160</td>\n",
       "      <td>180</td>\n",
       "      <td>0</td>\n",
       "      <td>Normal</td>\n",
       "      <td>156</td>\n",
       "      <td>N</td>\n",
       "      <td>1.0</td>\n",
       "      <td>Flat</td>\n",
       "      <td>1</td>\n",
       "    </tr>\n",
       "    <tr>\n",
       "      <th>2</th>\n",
       "      <td>37</td>\n",
       "      <td>M</td>\n",
       "      <td>ATA</td>\n",
       "      <td>130</td>\n",
       "      <td>283</td>\n",
       "      <td>0</td>\n",
       "      <td>ST</td>\n",
       "      <td>98</td>\n",
       "      <td>N</td>\n",
       "      <td>0.0</td>\n",
       "      <td>Up</td>\n",
       "      <td>0</td>\n",
       "    </tr>\n",
       "    <tr>\n",
       "      <th>3</th>\n",
       "      <td>48</td>\n",
       "      <td>F</td>\n",
       "      <td>ASY</td>\n",
       "      <td>138</td>\n",
       "      <td>214</td>\n",
       "      <td>0</td>\n",
       "      <td>Normal</td>\n",
       "      <td>108</td>\n",
       "      <td>Y</td>\n",
       "      <td>1.5</td>\n",
       "      <td>Flat</td>\n",
       "      <td>1</td>\n",
       "    </tr>\n",
       "    <tr>\n",
       "      <th>4</th>\n",
       "      <td>54</td>\n",
       "      <td>M</td>\n",
       "      <td>NAP</td>\n",
       "      <td>150</td>\n",
       "      <td>195</td>\n",
       "      <td>0</td>\n",
       "      <td>Normal</td>\n",
       "      <td>122</td>\n",
       "      <td>N</td>\n",
       "      <td>0.0</td>\n",
       "      <td>Up</td>\n",
       "      <td>0</td>\n",
       "    </tr>\n",
       "  </tbody>\n",
       "</table>\n",
       "</div>"
      ],
      "text/plain": [
       "   Age Sex ChestPainType  RestingBP  Cholesterol  FastingBS RestingECG  MaxHR  \\\n",
       "0   40   M           ATA        140          289          0     Normal    172   \n",
       "1   49   F           NAP        160          180          0     Normal    156   \n",
       "2   37   M           ATA        130          283          0         ST     98   \n",
       "3   48   F           ASY        138          214          0     Normal    108   \n",
       "4   54   M           NAP        150          195          0     Normal    122   \n",
       "\n",
       "  ExerciseAngina  Oldpeak ST_Slope  HeartDisease  \n",
       "0              N      0.0       Up             0  \n",
       "1              N      1.0     Flat             1  \n",
       "2              N      0.0       Up             0  \n",
       "3              Y      1.5     Flat             1  \n",
       "4              N      0.0       Up             0  "
      ]
     },
     "execution_count": 2,
     "metadata": {},
     "output_type": "execute_result"
    }
   ],
   "source": [
    "df = pd.read_csv(\"/kaggle/input/heart-failure-prediction/heart.csv\")       #store DataSet in df and use head() to show first 5 rows\n",
    "df.head()"
   ]
  },
  {
   "cell_type": "code",
   "execution_count": 3,
   "id": "244c602d",
   "metadata": {
    "execution": {
     "iopub.execute_input": "2024-04-12T03:46:53.990319Z",
     "iopub.status.busy": "2024-04-12T03:46:53.989867Z",
     "iopub.status.idle": "2024-04-12T03:46:53.997463Z",
     "shell.execute_reply": "2024-04-12T03:46:53.996454Z"
    },
    "papermill": {
     "duration": 0.020903,
     "end_time": "2024-04-12T03:46:54.000046",
     "exception": false,
     "start_time": "2024-04-12T03:46:53.979143",
     "status": "completed"
    },
    "tags": []
   },
   "outputs": [
    {
     "data": {
      "text/plain": [
       "(918, 12)"
      ]
     },
     "execution_count": 3,
     "metadata": {},
     "output_type": "execute_result"
    }
   ],
   "source": [
    "df.shape                                               #df contains 918 samples and 11 Features and Target column"
   ]
  },
  {
   "cell_type": "code",
   "execution_count": 4,
   "id": "0ba8cb47",
   "metadata": {
    "execution": {
     "iopub.execute_input": "2024-04-12T03:46:54.023143Z",
     "iopub.status.busy": "2024-04-12T03:46:54.021796Z",
     "iopub.status.idle": "2024-04-12T03:46:54.036095Z",
     "shell.execute_reply": "2024-04-12T03:46:54.034294Z"
    },
    "papermill": {
     "duration": 0.029439,
     "end_time": "2024-04-12T03:46:54.038883",
     "exception": false,
     "start_time": "2024-04-12T03:46:54.009444",
     "status": "completed"
    },
    "tags": []
   },
   "outputs": [
    {
     "data": {
      "text/plain": [
       "Age               0\n",
       "Sex               0\n",
       "ChestPainType     0\n",
       "RestingBP         0\n",
       "Cholesterol       0\n",
       "FastingBS         0\n",
       "RestingECG        0\n",
       "MaxHR             0\n",
       "ExerciseAngina    0\n",
       "Oldpeak           0\n",
       "ST_Slope          0\n",
       "HeartDisease      0\n",
       "dtype: int64"
      ]
     },
     "execution_count": 4,
     "metadata": {},
     "output_type": "execute_result"
    }
   ],
   "source": [
    "#make sure if there is any NULL values by this method :\n",
    "\n",
    "df.isna().sum()                                       #0 NULLs in all columns"
   ]
  },
  {
   "cell_type": "code",
   "execution_count": 5,
   "id": "5824f2fc",
   "metadata": {
    "execution": {
     "iopub.execute_input": "2024-04-12T03:46:54.064575Z",
     "iopub.status.busy": "2024-04-12T03:46:54.063192Z",
     "iopub.status.idle": "2024-04-12T03:46:54.097696Z",
     "shell.execute_reply": "2024-04-12T03:46:54.096015Z"
    },
    "papermill": {
     "duration": 0.049973,
     "end_time": "2024-04-12T03:46:54.100673",
     "exception": false,
     "start_time": "2024-04-12T03:46:54.050700",
     "status": "completed"
    },
    "tags": []
   },
   "outputs": [
    {
     "name": "stdout",
     "output_type": "stream",
     "text": [
      "<class 'pandas.core.frame.DataFrame'>\n",
      "RangeIndex: 918 entries, 0 to 917\n",
      "Data columns (total 12 columns):\n",
      " #   Column          Non-Null Count  Dtype  \n",
      "---  ------          --------------  -----  \n",
      " 0   Age             918 non-null    int64  \n",
      " 1   Sex             918 non-null    object \n",
      " 2   ChestPainType   918 non-null    object \n",
      " 3   RestingBP       918 non-null    int64  \n",
      " 4   Cholesterol     918 non-null    int64  \n",
      " 5   FastingBS       918 non-null    int64  \n",
      " 6   RestingECG      918 non-null    object \n",
      " 7   MaxHR           918 non-null    int64  \n",
      " 8   ExerciseAngina  918 non-null    object \n",
      " 9   Oldpeak         918 non-null    float64\n",
      " 10  ST_Slope        918 non-null    object \n",
      " 11  HeartDisease    918 non-null    int64  \n",
      "dtypes: float64(1), int64(6), object(5)\n",
      "memory usage: 86.2+ KB\n"
     ]
    }
   ],
   "source": [
    "df.info()                        #there are 5 Categorical columns , 6 numerical cloumns and HeartDisease\"target\" column which is numerical "
   ]
  },
  {
   "cell_type": "code",
   "execution_count": 6,
   "id": "322a8561",
   "metadata": {
    "execution": {
     "iopub.execute_input": "2024-04-12T03:46:54.121850Z",
     "iopub.status.busy": "2024-04-12T03:46:54.121389Z",
     "iopub.status.idle": "2024-04-12T03:46:54.162694Z",
     "shell.execute_reply": "2024-04-12T03:46:54.160924Z"
    },
    "papermill": {
     "duration": 0.055848,
     "end_time": "2024-04-12T03:46:54.166056",
     "exception": false,
     "start_time": "2024-04-12T03:46:54.110208",
     "status": "completed"
    },
    "tags": []
   },
   "outputs": [
    {
     "data": {
      "text/html": [
       "<div>\n",
       "<style scoped>\n",
       "    .dataframe tbody tr th:only-of-type {\n",
       "        vertical-align: middle;\n",
       "    }\n",
       "\n",
       "    .dataframe tbody tr th {\n",
       "        vertical-align: top;\n",
       "    }\n",
       "\n",
       "    .dataframe thead th {\n",
       "        text-align: right;\n",
       "    }\n",
       "</style>\n",
       "<table border=\"1\" class=\"dataframe\">\n",
       "  <thead>\n",
       "    <tr style=\"text-align: right;\">\n",
       "      <th></th>\n",
       "      <th>Age</th>\n",
       "      <th>RestingBP</th>\n",
       "      <th>Cholesterol</th>\n",
       "      <th>FastingBS</th>\n",
       "      <th>MaxHR</th>\n",
       "      <th>Oldpeak</th>\n",
       "      <th>HeartDisease</th>\n",
       "    </tr>\n",
       "  </thead>\n",
       "  <tbody>\n",
       "    <tr>\n",
       "      <th>count</th>\n",
       "      <td>918.000000</td>\n",
       "      <td>918.000000</td>\n",
       "      <td>918.000000</td>\n",
       "      <td>918.000000</td>\n",
       "      <td>918.000000</td>\n",
       "      <td>918.000000</td>\n",
       "      <td>918.000000</td>\n",
       "    </tr>\n",
       "    <tr>\n",
       "      <th>mean</th>\n",
       "      <td>53.510893</td>\n",
       "      <td>132.396514</td>\n",
       "      <td>198.799564</td>\n",
       "      <td>0.233115</td>\n",
       "      <td>136.809368</td>\n",
       "      <td>0.887364</td>\n",
       "      <td>0.553377</td>\n",
       "    </tr>\n",
       "    <tr>\n",
       "      <th>std</th>\n",
       "      <td>9.432617</td>\n",
       "      <td>18.514154</td>\n",
       "      <td>109.384145</td>\n",
       "      <td>0.423046</td>\n",
       "      <td>25.460334</td>\n",
       "      <td>1.066570</td>\n",
       "      <td>0.497414</td>\n",
       "    </tr>\n",
       "    <tr>\n",
       "      <th>min</th>\n",
       "      <td>28.000000</td>\n",
       "      <td>0.000000</td>\n",
       "      <td>0.000000</td>\n",
       "      <td>0.000000</td>\n",
       "      <td>60.000000</td>\n",
       "      <td>-2.600000</td>\n",
       "      <td>0.000000</td>\n",
       "    </tr>\n",
       "    <tr>\n",
       "      <th>25%</th>\n",
       "      <td>47.000000</td>\n",
       "      <td>120.000000</td>\n",
       "      <td>173.250000</td>\n",
       "      <td>0.000000</td>\n",
       "      <td>120.000000</td>\n",
       "      <td>0.000000</td>\n",
       "      <td>0.000000</td>\n",
       "    </tr>\n",
       "    <tr>\n",
       "      <th>50%</th>\n",
       "      <td>54.000000</td>\n",
       "      <td>130.000000</td>\n",
       "      <td>223.000000</td>\n",
       "      <td>0.000000</td>\n",
       "      <td>138.000000</td>\n",
       "      <td>0.600000</td>\n",
       "      <td>1.000000</td>\n",
       "    </tr>\n",
       "    <tr>\n",
       "      <th>75%</th>\n",
       "      <td>60.000000</td>\n",
       "      <td>140.000000</td>\n",
       "      <td>267.000000</td>\n",
       "      <td>0.000000</td>\n",
       "      <td>156.000000</td>\n",
       "      <td>1.500000</td>\n",
       "      <td>1.000000</td>\n",
       "    </tr>\n",
       "    <tr>\n",
       "      <th>max</th>\n",
       "      <td>77.000000</td>\n",
       "      <td>200.000000</td>\n",
       "      <td>603.000000</td>\n",
       "      <td>1.000000</td>\n",
       "      <td>202.000000</td>\n",
       "      <td>6.200000</td>\n",
       "      <td>1.000000</td>\n",
       "    </tr>\n",
       "  </tbody>\n",
       "</table>\n",
       "</div>"
      ],
      "text/plain": [
       "              Age   RestingBP  Cholesterol   FastingBS       MaxHR  \\\n",
       "count  918.000000  918.000000   918.000000  918.000000  918.000000   \n",
       "mean    53.510893  132.396514   198.799564    0.233115  136.809368   \n",
       "std      9.432617   18.514154   109.384145    0.423046   25.460334   \n",
       "min     28.000000    0.000000     0.000000    0.000000   60.000000   \n",
       "25%     47.000000  120.000000   173.250000    0.000000  120.000000   \n",
       "50%     54.000000  130.000000   223.000000    0.000000  138.000000   \n",
       "75%     60.000000  140.000000   267.000000    0.000000  156.000000   \n",
       "max     77.000000  200.000000   603.000000    1.000000  202.000000   \n",
       "\n",
       "          Oldpeak  HeartDisease  \n",
       "count  918.000000    918.000000  \n",
       "mean     0.887364      0.553377  \n",
       "std      1.066570      0.497414  \n",
       "min     -2.600000      0.000000  \n",
       "25%      0.000000      0.000000  \n",
       "50%      0.600000      1.000000  \n",
       "75%      1.500000      1.000000  \n",
       "max      6.200000      1.000000  "
      ]
     },
     "execution_count": 6,
     "metadata": {},
     "output_type": "execute_result"
    }
   ],
   "source": [
    "df.describe()                     #this show a mathematical summary"
   ]
  },
  {
   "cell_type": "code",
   "execution_count": 7,
   "id": "7d346003",
   "metadata": {
    "execution": {
     "iopub.execute_input": "2024-04-12T03:46:54.189246Z",
     "iopub.status.busy": "2024-04-12T03:46:54.188848Z",
     "iopub.status.idle": "2024-04-12T03:46:54.199451Z",
     "shell.execute_reply": "2024-04-12T03:46:54.197974Z"
    },
    "papermill": {
     "duration": 0.025973,
     "end_time": "2024-04-12T03:46:54.202187",
     "exception": false,
     "start_time": "2024-04-12T03:46:54.176214",
     "status": "completed"
    },
    "tags": []
   },
   "outputs": [
    {
     "data": {
      "text/plain": [
       "FastingBS\n",
       "0    704\n",
       "1    214\n",
       "Name: count, dtype: int64"
      ]
     },
     "execution_count": 7,
     "metadata": {},
     "output_type": "execute_result"
    }
   ],
   "source": [
    "#from prev cell notice that most of FastingBS column have 0 value , lets focus of :\n",
    "df.FastingBS.value_counts()                        #most of samples doesnot have Diabetes\n"
   ]
  },
  {
   "cell_type": "code",
   "execution_count": 8,
   "id": "e31800d8",
   "metadata": {
    "execution": {
     "iopub.execute_input": "2024-04-12T03:46:54.225574Z",
     "iopub.status.busy": "2024-04-12T03:46:54.225131Z",
     "iopub.status.idle": "2024-04-12T03:46:54.236652Z",
     "shell.execute_reply": "2024-04-12T03:46:54.235073Z"
    },
    "papermill": {
     "duration": 0.025325,
     "end_time": "2024-04-12T03:46:54.239251",
     "exception": false,
     "start_time": "2024-04-12T03:46:54.213926",
     "status": "completed"
    },
    "tags": []
   },
   "outputs": [
    {
     "data": {
      "text/plain": [
       "HeartDisease\n",
       "1    508\n",
       "0    410\n",
       "Name: count, dtype: int64"
      ]
     },
     "execution_count": 8,
     "metadata": {},
     "output_type": "execute_result"
    }
   ],
   "source": [
    "#now lets check if the Target column have Close proportions \"that is important to our model\"\n",
    "df.HeartDisease.value_counts()                                      #55% have HeartDisease , 45% not. so it is Close proportions "
   ]
  },
  {
   "cell_type": "code",
   "execution_count": 9,
   "id": "7e2da603",
   "metadata": {
    "execution": {
     "iopub.execute_input": "2024-04-12T03:46:54.261968Z",
     "iopub.status.busy": "2024-04-12T03:46:54.261547Z",
     "iopub.status.idle": "2024-04-12T03:46:54.292333Z",
     "shell.execute_reply": "2024-04-12T03:46:54.291060Z"
    },
    "papermill": {
     "duration": 0.045644,
     "end_time": "2024-04-12T03:46:54.295106",
     "exception": false,
     "start_time": "2024-04-12T03:46:54.249462",
     "status": "completed"
    },
    "tags": []
   },
   "outputs": [
    {
     "name": "stdout",
     "output_type": "stream",
     "text": [
      "<class 'pandas.core.frame.DataFrame'>\n",
      "RangeIndex: 918 entries, 0 to 917\n",
      "Data columns (total 12 columns):\n",
      " #   Column          Non-Null Count  Dtype  \n",
      "---  ------          --------------  -----  \n",
      " 0   Age             918 non-null    int64  \n",
      " 1   Sex             918 non-null    object \n",
      " 2   ChestPainType   918 non-null    object \n",
      " 3   RestingBP       918 non-null    int64  \n",
      " 4   Cholesterol     918 non-null    int64  \n",
      " 5   FastingBS       918 non-null    int64  \n",
      " 6   RestingECG      918 non-null    object \n",
      " 7   MaxHR           918 non-null    int64  \n",
      " 8   ExerciseAngina  918 non-null    object \n",
      " 9   Oldpeak         918 non-null    float64\n",
      " 10  ST_Slope        918 non-null    object \n",
      " 11  HeartDisease    918 non-null    int64  \n",
      "dtypes: float64(1), int64(6), object(5)\n",
      "memory usage: 86.2+ KB\n"
     ]
    },
    {
     "data": {
      "text/html": [
       "<div>\n",
       "<style scoped>\n",
       "    .dataframe tbody tr th:only-of-type {\n",
       "        vertical-align: middle;\n",
       "    }\n",
       "\n",
       "    .dataframe tbody tr th {\n",
       "        vertical-align: top;\n",
       "    }\n",
       "\n",
       "    .dataframe thead th {\n",
       "        text-align: right;\n",
       "    }\n",
       "</style>\n",
       "<table border=\"1\" class=\"dataframe\">\n",
       "  <thead>\n",
       "    <tr style=\"text-align: right;\">\n",
       "      <th></th>\n",
       "      <th>Age</th>\n",
       "      <th>RestingBP</th>\n",
       "      <th>Cholesterol</th>\n",
       "      <th>FastingBS</th>\n",
       "      <th>MaxHR</th>\n",
       "      <th>Oldpeak</th>\n",
       "      <th>HeartDisease</th>\n",
       "    </tr>\n",
       "  </thead>\n",
       "  <tbody>\n",
       "    <tr>\n",
       "      <th>0</th>\n",
       "      <td>40</td>\n",
       "      <td>140</td>\n",
       "      <td>289</td>\n",
       "      <td>0</td>\n",
       "      <td>172</td>\n",
       "      <td>0.0</td>\n",
       "      <td>0</td>\n",
       "    </tr>\n",
       "    <tr>\n",
       "      <th>1</th>\n",
       "      <td>49</td>\n",
       "      <td>160</td>\n",
       "      <td>180</td>\n",
       "      <td>0</td>\n",
       "      <td>156</td>\n",
       "      <td>1.0</td>\n",
       "      <td>1</td>\n",
       "    </tr>\n",
       "    <tr>\n",
       "      <th>2</th>\n",
       "      <td>37</td>\n",
       "      <td>130</td>\n",
       "      <td>283</td>\n",
       "      <td>0</td>\n",
       "      <td>98</td>\n",
       "      <td>0.0</td>\n",
       "      <td>0</td>\n",
       "    </tr>\n",
       "    <tr>\n",
       "      <th>3</th>\n",
       "      <td>48</td>\n",
       "      <td>138</td>\n",
       "      <td>214</td>\n",
       "      <td>0</td>\n",
       "      <td>108</td>\n",
       "      <td>1.5</td>\n",
       "      <td>1</td>\n",
       "    </tr>\n",
       "    <tr>\n",
       "      <th>4</th>\n",
       "      <td>54</td>\n",
       "      <td>150</td>\n",
       "      <td>195</td>\n",
       "      <td>0</td>\n",
       "      <td>122</td>\n",
       "      <td>0.0</td>\n",
       "      <td>0</td>\n",
       "    </tr>\n",
       "  </tbody>\n",
       "</table>\n",
       "</div>"
      ],
      "text/plain": [
       "   Age  RestingBP  Cholesterol  FastingBS  MaxHR  Oldpeak  HeartDisease\n",
       "0   40        140          289          0    172      0.0             0\n",
       "1   49        160          180          0    156      1.0             1\n",
       "2   37        130          283          0     98      0.0             0\n",
       "3   48        138          214          0    108      1.5             1\n",
       "4   54        150          195          0    122      0.0             0"
      ]
     },
     "execution_count": 9,
     "metadata": {},
     "output_type": "execute_result"
    }
   ],
   "source": [
    "#now before dealing with categorical Columns it is necessary to show correlation and skew so lets extraxt numerical columns\n",
    "\n",
    "df.info()                #to know numerical columns\n",
    "\n",
    "numerical_df = df[[\"Age\",'RestingBP','Cholesterol','FastingBS','MaxHR','Oldpeak','HeartDisease']].copy()\n",
    "\n",
    "numerical_df.head()"
   ]
  },
  {
   "cell_type": "code",
   "execution_count": 10,
   "id": "e2fce649",
   "metadata": {
    "execution": {
     "iopub.execute_input": "2024-04-12T03:46:54.318514Z",
     "iopub.status.busy": "2024-04-12T03:46:54.318113Z",
     "iopub.status.idle": "2024-04-12T03:46:54.874547Z",
     "shell.execute_reply": "2024-04-12T03:46:54.873205Z"
    },
    "papermill": {
     "duration": 0.572464,
     "end_time": "2024-04-12T03:46:54.878060",
     "exception": false,
     "start_time": "2024-04-12T03:46:54.305596",
     "status": "completed"
    },
    "tags": []
   },
   "outputs": [
    {
     "data": {
      "text/plain": [
       "<Axes: >"
      ]
     },
     "execution_count": 10,
     "metadata": {},
     "output_type": "execute_result"
    },
    {
     "data": {
      "image/png": "[encoded data removed]",
      "text/plain": [
       "<Figure size 640x480 with 2 Axes>"
      ]
     },
     "metadata": {},
     "output_type": "display_data"
    }
   ],
   "source": [
    "sns.heatmap(numerical_df.corr(),annot=True,mask = np.triu(np.ones_like(numerical_df.corr(), dtype=bool)))    \n",
    "\n",
    "#notice that Oldpeak have the strongest correlation with HeartDisease Result ,  MaxHR has the strongest relation \"inverse with target\""
   ]
  },
  {
   "cell_type": "code",
   "execution_count": 11,
   "id": "30b13078",
   "metadata": {
    "execution": {
     "iopub.execute_input": "2024-04-12T03:46:54.905434Z",
     "iopub.status.busy": "2024-04-12T03:46:54.904455Z",
     "iopub.status.idle": "2024-04-12T03:46:54.916028Z",
     "shell.execute_reply": "2024-04-12T03:46:54.914568Z"
    },
    "papermill": {
     "duration": 0.027773,
     "end_time": "2024-04-12T03:46:54.918864",
     "exception": false,
     "start_time": "2024-04-12T03:46:54.891091",
     "status": "completed"
    },
    "tags": []
   },
   "outputs": [
    {
     "data": {
      "text/plain": [
       "Age            -0.195933\n",
       "RestingBP       0.179839\n",
       "Cholesterol    -0.610086\n",
       "FastingBS       1.264484\n",
       "MaxHR          -0.144359\n",
       "Oldpeak         1.022872\n",
       "HeartDisease   -0.215086\n",
       "dtype: float64"
      ]
     },
     "execution_count": 11,
     "metadata": {},
     "output_type": "execute_result"
    }
   ],
   "source": [
    "numerical_df.skew()"
   ]
  },
  {
   "cell_type": "code",
   "execution_count": 12,
   "id": "74141412",
   "metadata": {
    "execution": {
     "iopub.execute_input": "2024-04-12T03:46:54.945104Z",
     "iopub.status.busy": "2024-04-12T03:46:54.944424Z",
     "iopub.status.idle": "2024-04-12T03:46:56.035532Z",
     "shell.execute_reply": "2024-04-12T03:46:56.034147Z"
    },
    "papermill": {
     "duration": 1.107843,
     "end_time": "2024-04-12T03:46:56.038407",
     "exception": false,
     "start_time": "2024-04-12T03:46:54.930564",
     "status": "completed"
    },
    "tags": []
   },
   "outputs": [
    {
     "name": "stdout",
     "output_type": "stream",
     "text": [
      "Age boxPlot:\n"
     ]
    },
    {
     "data": {
      "image/png": "[encoded data removed]",
      "text/plain": [
       "<Figure size 640x480 with 1 Axes>"
      ]
     },
     "metadata": {},
     "output_type": "display_data"
    },
    {
     "name": "stdout",
     "output_type": "stream",
     "text": [
      "RestingBP boxPlot:\n"
     ]
    },
    {
     "data": {
      "image/png": "[encoded data removed]",
      "text/plain": [
       "<Figure size 640x480 with 1 Axes>"
      ]
     },
     "metadata": {},
     "output_type": "display_data"
    },
    {
     "name": "stdout",
     "output_type": "stream",
     "text": [
      "Cholesterol boxPlot:\n"
     ]
    },
    {
     "data": {
      "image/png": "[encoded data removed]",
      "text/plain": [
       "<Figure size 640x480 with 1 Axes>"
      ]
     },
     "metadata": {},
     "output_type": "display_data"
    },
    {
     "name": "stdout",
     "output_type": "stream",
     "text": [
      "MaxHR boxPlot:\n"
     ]
    },
    {
     "data": {
      "image/png": "[encoded data removed]",
      "text/plain": [
       "<Figure size 640x480 with 1 Axes>"
      ]
     },
     "metadata": {},
     "output_type": "display_data"
    },
    {
     "name": "stdout",
     "output_type": "stream",
     "text": [
      "Oldpeak boxPlot:\n"
     ]
    },
    {
     "data": {
      "image/png": "[encoded data removed]",
      "text/plain": [
       "<Figure size 640x480 with 1 Axes>"
      ]
     },
     "metadata": {},
     "output_type": "display_data"
    }
   ],
   "source": [
    "#now let's use boxplot to see if there is any oulier in the Dataset to deal with\n",
    "numerical_df = numerical_df.drop([\"HeartDisease\",'FastingBS'],axis=1)\n",
    "for col in numerical_df.columns : \n",
    "    print(col,\"boxPlot:\")\n",
    "    plt.boxplot(numerical_df[col])\n",
    "    plt.show()"
   ]
  },
  {
   "cell_type": "code",
   "execution_count": 13,
   "id": "522e76ca",
   "metadata": {
    "execution": {
     "iopub.execute_input": "2024-04-12T03:46:56.069839Z",
     "iopub.status.busy": "2024-04-12T03:46:56.068466Z",
     "iopub.status.idle": "2024-04-12T03:46:56.075336Z",
     "shell.execute_reply": "2024-04-12T03:46:56.073728Z"
    },
    "papermill": {
     "duration": 0.026044,
     "end_time": "2024-04-12T03:46:56.078153",
     "exception": false,
     "start_time": "2024-04-12T03:46:56.052109",
     "status": "completed"
    },
    "tags": []
   },
   "outputs": [],
   "source": [
    "#will back to shis soon\n",
    "\n",
    "#for col in numerical_df.columns :\n",
    " #   for x in col:\n",
    "  #      \n",
    "   #     q75,q25 = np.percentile(numerical_df.loc[:,x],[75,25])\n",
    "    #    intr_qr = q75-q25\n",
    " #\n",
    "  #     max = q75+(1.5*intr_qr)\n",
    "   #     min = q25-(1.5*intr_qr)\n",
    " #\n",
    "  #      numerical_df.loc[numerical_df[x] < min,x] = np.nan\n",
    "   #     numerical_df.loc[numerical_df[x] > max,x] = np.nan\n",
    "#\n",
    "##now let's use boxplot to see if there is any oulier in the Dataset to deal with\n",
    "#for col in numerical_df.columns : \n",
    " #   print(col,\"boxPlot:\")\n",
    "  #  plt.boxplot(numerical_df[col])\n",
    "   # plt.show()"
   ]
  },
  {
   "cell_type": "code",
   "execution_count": 14,
   "id": "d032ccd2",
   "metadata": {
    "execution": {
     "iopub.execute_input": "2024-04-12T03:46:56.108886Z",
     "iopub.status.busy": "2024-04-12T03:46:56.108139Z",
     "iopub.status.idle": "2024-04-12T03:46:56.117730Z",
     "shell.execute_reply": "2024-04-12T03:46:56.116278Z"
    },
    "papermill": {
     "duration": 0.027533,
     "end_time": "2024-04-12T03:46:56.120222",
     "exception": false,
     "start_time": "2024-04-12T03:46:56.092689",
     "status": "completed"
    },
    "tags": []
   },
   "outputs": [
    {
     "name": "stdout",
     "output_type": "stream",
     "text": [
      "number of unique columns in Sex column is 2 \n",
      "\n",
      "number of unique columns in ChestPainType column is 4 \n",
      "\n",
      "number of unique columns in RestingECG column is 3 \n",
      "\n",
      "number of unique columns in ExerciseAngina column is 2 \n",
      "\n",
      "number of unique columns in ST_Slope column is 3 \n",
      "\n"
     ]
    }
   ],
   "source": [
    "for col in df.columns :                                               #look how many unique values in each categorical column \n",
    "    if df[col].dtype== \"object\":        \n",
    "        print(\"number of unique columns in {} column is\".format(col),df[col].nunique(),\"\\n\")\n",
    "        \n",
    "\n",
    "#ExerciseAngina have 2 unique values which is yes if True and no if False so lets convert it to 1,0 "
   ]
  },
  {
   "cell_type": "code",
   "execution_count": 15,
   "id": "94950bc0",
   "metadata": {
    "execution": {
     "iopub.execute_input": "2024-04-12T03:46:56.151005Z",
     "iopub.status.busy": "2024-04-12T03:46:56.150082Z",
     "iopub.status.idle": "2024-04-12T03:46:56.161838Z",
     "shell.execute_reply": "2024-04-12T03:46:56.160639Z"
    },
    "papermill": {
     "duration": 0.030213,
     "end_time": "2024-04-12T03:46:56.164637",
     "exception": false,
     "start_time": "2024-04-12T03:46:56.134424",
     "status": "completed"
    },
    "tags": []
   },
   "outputs": [
    {
     "data": {
      "text/plain": [
       "ExerciseAngina\n",
       "0    547\n",
       "1    371\n",
       "Name: count, dtype: int64"
      ]
     },
     "execution_count": 15,
     "metadata": {},
     "output_type": "execute_result"
    }
   ],
   "source": [
    "df['ExerciseAngina'] = df['ExerciseAngina'].map( \n",
    "                   {'Y':1 ,'N':0}) \n",
    "\n",
    "df['ExerciseAngina'].value_counts()    #it runs successfully , Great"
   ]
  },
  {
   "cell_type": "code",
   "execution_count": 16,
   "id": "cc0d1868",
   "metadata": {
    "execution": {
     "iopub.execute_input": "2024-04-12T03:46:56.195422Z",
     "iopub.status.busy": "2024-04-12T03:46:56.194993Z",
     "iopub.status.idle": "2024-04-12T03:46:56.224753Z",
     "shell.execute_reply": "2024-04-12T03:46:56.223748Z"
    },
    "papermill": {
     "duration": 0.047678,
     "end_time": "2024-04-12T03:46:56.227553",
     "exception": false,
     "start_time": "2024-04-12T03:46:56.179875",
     "status": "completed"
    },
    "tags": []
   },
   "outputs": [
    {
     "data": {
      "text/html": [
       "<div>\n",
       "<style scoped>\n",
       "    .dataframe tbody tr th:only-of-type {\n",
       "        vertical-align: middle;\n",
       "    }\n",
       "\n",
       "    .dataframe tbody tr th {\n",
       "        vertical-align: top;\n",
       "    }\n",
       "\n",
       "    .dataframe thead th {\n",
       "        text-align: right;\n",
       "    }\n",
       "</style>\n",
       "<table border=\"1\" class=\"dataframe\">\n",
       "  <thead>\n",
       "    <tr style=\"text-align: right;\">\n",
       "      <th></th>\n",
       "      <th>Age</th>\n",
       "      <th>RestingBP</th>\n",
       "      <th>Cholesterol</th>\n",
       "      <th>FastingBS</th>\n",
       "      <th>MaxHR</th>\n",
       "      <th>ExerciseAngina</th>\n",
       "      <th>Oldpeak</th>\n",
       "      <th>HeartDisease</th>\n",
       "      <th>Sex_F</th>\n",
       "      <th>Sex_M</th>\n",
       "      <th>ChestPainType_ASY</th>\n",
       "      <th>ChestPainType_ATA</th>\n",
       "      <th>ChestPainType_NAP</th>\n",
       "      <th>ChestPainType_TA</th>\n",
       "      <th>RestingECG_LVH</th>\n",
       "      <th>RestingECG_Normal</th>\n",
       "      <th>RestingECG_ST</th>\n",
       "      <th>ST_Slope_Down</th>\n",
       "      <th>ST_Slope_Flat</th>\n",
       "      <th>ST_Slope_Up</th>\n",
       "    </tr>\n",
       "  </thead>\n",
       "  <tbody>\n",
       "    <tr>\n",
       "      <th>0</th>\n",
       "      <td>40</td>\n",
       "      <td>140</td>\n",
       "      <td>289</td>\n",
       "      <td>0</td>\n",
       "      <td>172</td>\n",
       "      <td>0</td>\n",
       "      <td>0</td>\n",
       "      <td>0</td>\n",
       "      <td>0</td>\n",
       "      <td>1</td>\n",
       "      <td>0</td>\n",
       "      <td>1</td>\n",
       "      <td>0</td>\n",
       "      <td>0</td>\n",
       "      <td>0</td>\n",
       "      <td>1</td>\n",
       "      <td>0</td>\n",
       "      <td>0</td>\n",
       "      <td>0</td>\n",
       "      <td>1</td>\n",
       "    </tr>\n",
       "    <tr>\n",
       "      <th>1</th>\n",
       "      <td>49</td>\n",
       "      <td>160</td>\n",
       "      <td>180</td>\n",
       "      <td>0</td>\n",
       "      <td>156</td>\n",
       "      <td>0</td>\n",
       "      <td>1</td>\n",
       "      <td>1</td>\n",
       "      <td>1</td>\n",
       "      <td>0</td>\n",
       "      <td>0</td>\n",
       "      <td>0</td>\n",
       "      <td>1</td>\n",
       "      <td>0</td>\n",
       "      <td>0</td>\n",
       "      <td>1</td>\n",
       "      <td>0</td>\n",
       "      <td>0</td>\n",
       "      <td>1</td>\n",
       "      <td>0</td>\n",
       "    </tr>\n",
       "    <tr>\n",
       "      <th>2</th>\n",
       "      <td>37</td>\n",
       "      <td>130</td>\n",
       "      <td>283</td>\n",
       "      <td>0</td>\n",
       "      <td>98</td>\n",
       "      <td>0</td>\n",
       "      <td>0</td>\n",
       "      <td>0</td>\n",
       "      <td>0</td>\n",
       "      <td>1</td>\n",
       "      <td>0</td>\n",
       "      <td>1</td>\n",
       "      <td>0</td>\n",
       "      <td>0</td>\n",
       "      <td>0</td>\n",
       "      <td>0</td>\n",
       "      <td>1</td>\n",
       "      <td>0</td>\n",
       "      <td>0</td>\n",
       "      <td>1</td>\n",
       "    </tr>\n",
       "    <tr>\n",
       "      <th>3</th>\n",
       "      <td>48</td>\n",
       "      <td>138</td>\n",
       "      <td>214</td>\n",
       "      <td>0</td>\n",
       "      <td>108</td>\n",
       "      <td>1</td>\n",
       "      <td>1</td>\n",
       "      <td>1</td>\n",
       "      <td>1</td>\n",
       "      <td>0</td>\n",
       "      <td>1</td>\n",
       "      <td>0</td>\n",
       "      <td>0</td>\n",
       "      <td>0</td>\n",
       "      <td>0</td>\n",
       "      <td>1</td>\n",
       "      <td>0</td>\n",
       "      <td>0</td>\n",
       "      <td>1</td>\n",
       "      <td>0</td>\n",
       "    </tr>\n",
       "    <tr>\n",
       "      <th>4</th>\n",
       "      <td>54</td>\n",
       "      <td>150</td>\n",
       "      <td>195</td>\n",
       "      <td>0</td>\n",
       "      <td>122</td>\n",
       "      <td>0</td>\n",
       "      <td>0</td>\n",
       "      <td>0</td>\n",
       "      <td>0</td>\n",
       "      <td>1</td>\n",
       "      <td>0</td>\n",
       "      <td>0</td>\n",
       "      <td>1</td>\n",
       "      <td>0</td>\n",
       "      <td>0</td>\n",
       "      <td>1</td>\n",
       "      <td>0</td>\n",
       "      <td>0</td>\n",
       "      <td>0</td>\n",
       "      <td>1</td>\n",
       "    </tr>\n",
       "  </tbody>\n",
       "</table>\n",
       "</div>"
      ],
      "text/plain": [
       "   Age  RestingBP  Cholesterol  FastingBS  MaxHR  ExerciseAngina  Oldpeak  \\\n",
       "0   40        140          289          0    172               0        0   \n",
       "1   49        160          180          0    156               0        1   \n",
       "2   37        130          283          0     98               0        0   \n",
       "3   48        138          214          0    108               1        1   \n",
       "4   54        150          195          0    122               0        0   \n",
       "\n",
       "   HeartDisease  Sex_F  Sex_M  ChestPainType_ASY  ChestPainType_ATA  \\\n",
       "0             0      0      1                  0                  1   \n",
       "1             1      1      0                  0                  0   \n",
       "2             0      0      1                  0                  1   \n",
       "3             1      1      0                  1                  0   \n",
       "4             0      0      1                  0                  0   \n",
       "\n",
       "   ChestPainType_NAP  ChestPainType_TA  RestingECG_LVH  RestingECG_Normal  \\\n",
       "0                  0                 0               0                  1   \n",
       "1                  1                 0               0                  1   \n",
       "2                  0                 0               0                  0   \n",
       "3                  0                 0               0                  1   \n",
       "4                  1                 0               0                  1   \n",
       "\n",
       "   RestingECG_ST  ST_Slope_Down  ST_Slope_Flat  ST_Slope_Up  \n",
       "0              0              0              0            1  \n",
       "1              0              0              1            0  \n",
       "2              1              0              0            1  \n",
       "3              0              0              1            0  \n",
       "4              0              0              0            1  "
      ]
     },
     "execution_count": 16,
     "metadata": {},
     "output_type": "execute_result"
    }
   ],
   "source": [
    "#now the next step is to convert the numerical columns to numerical using OneHotEncoding or LabelEncoding , i will use OHE\n",
    "df=pd.get_dummies(df).astype(int)                     #OHE convert it into Boolean Values so use astype(int) to convert it into 1's and zeros\n",
    "df.head()"
   ]
  },
  {
   "cell_type": "code",
   "execution_count": 17,
   "id": "464e9497",
   "metadata": {
    "execution": {
     "iopub.execute_input": "2024-04-12T03:46:56.257889Z",
     "iopub.status.busy": "2024-04-12T03:46:56.257500Z",
     "iopub.status.idle": "2024-04-12T03:46:56.270739Z",
     "shell.execute_reply": "2024-04-12T03:46:56.269442Z"
    },
    "papermill": {
     "duration": 0.031299,
     "end_time": "2024-04-12T03:46:56.273185",
     "exception": false,
     "start_time": "2024-04-12T03:46:56.241886",
     "status": "completed"
    },
    "tags": []
   },
   "outputs": [
    {
     "data": {
      "text/plain": [
       "((642, 19), (276, 19), (642,), (276,))"
      ]
     },
     "execution_count": 17,
     "metadata": {},
     "output_type": "execute_result"
    }
   ],
   "source": [
    "features = df.drop(\"HeartDisease\",axis=1)\n",
    "target=df['HeartDisease']\n",
    "x_train , x_test , y_train , y_test = train_test_split (features,target,test_size=0.3,random_state=42)\n",
    "x_train.shape , x_test.shape , y_train.shape , y_test.shape"
   ]
  },
  {
   "cell_type": "code",
   "execution_count": 18,
   "id": "b98257bb",
   "metadata": {
    "execution": {
     "iopub.execute_input": "2024-04-12T03:46:56.304461Z",
     "iopub.status.busy": "2024-04-12T03:46:56.303760Z",
     "iopub.status.idle": "2024-04-12T03:46:56.363102Z",
     "shell.execute_reply": "2024-04-12T03:46:56.361867Z"
    },
    "papermill": {
     "duration": 0.078042,
     "end_time": "2024-04-12T03:46:56.366000",
     "exception": false,
     "start_time": "2024-04-12T03:46:56.287958",
     "status": "completed"
    },
    "tags": []
   },
   "outputs": [],
   "source": [
    "df.describe()\n",
    "\n",
    "#notice that in some columns MAX values are : 77 , 200 , 603 ,1    and MIN are : 28 , 0 , 60 \n",
    "#so the columns dont have the same scale and that would lead to problems with our model so lets scale them\n",
    "\n",
    "scaler = StandardScaler()\n",
    "x_train = scaler.fit_transform(x_train)     \n",
    "x_test =  scaler.fit_transform(x_test)                    #now all columns have values in range 0 : 1\n"
   ]
  },
  {
   "cell_type": "code",
   "execution_count": 19,
   "id": "fff1c709",
   "metadata": {
    "execution": {
     "iopub.execute_input": "2024-04-12T03:46:56.397955Z",
     "iopub.status.busy": "2024-04-12T03:46:56.397529Z",
     "iopub.status.idle": "2024-04-12T03:46:56.697290Z",
     "shell.execute_reply": "2024-04-12T03:46:56.695938Z"
    },
    "papermill": {
     "duration": 0.318591,
     "end_time": "2024-04-12T03:46:56.699848",
     "exception": false,
     "start_time": "2024-04-12T03:46:56.381257",
     "status": "completed"
    },
    "tags": []
   },
   "outputs": [
    {
     "name": "stdout",
     "output_type": "stream",
     "text": [
      "0.9057971014492754\n"
     ]
    }
   ],
   "source": [
    "\n",
    "rf=RandomForestClassifier()\n",
    "rf.fit(x_train,y_train)\n",
    "y_pred=rf.predict(x_test)\n",
    "\n",
    "print(accuracy_score(y_test,y_pred))"
   ]
  },
  {
   "cell_type": "code",
   "execution_count": 20,
   "id": "a89d5f67",
   "metadata": {
    "execution": {
     "iopub.execute_input": "2024-04-12T03:46:56.731943Z",
     "iopub.status.busy": "2024-04-12T03:46:56.731534Z",
     "iopub.status.idle": "2024-04-12T03:46:56.768322Z",
     "shell.execute_reply": "2024-04-12T03:46:56.766760Z"
    },
    "papermill": {
     "duration": 0.057929,
     "end_time": "2024-04-12T03:46:56.773192",
     "exception": false,
     "start_time": "2024-04-12T03:46:56.715263",
     "status": "completed"
    },
    "tags": []
   },
   "outputs": [
    {
     "name": "stdout",
     "output_type": "stream",
     "text": [
      "0.9057971014492754\n"
     ]
    }
   ],
   "source": [
    "logreg = linear_model.LogisticRegression()\n",
    "logreg.fit(x_train,y_train)\n",
    "y_predd=logreg.predict(x_test)\n",
    "\n",
    "print(accuracy_score(y_test,y_pred))"
   ]
  },
  {
   "cell_type": "code",
   "execution_count": 21,
   "id": "c38c5dc1",
   "metadata": {
    "execution": {
     "iopub.execute_input": "2024-04-12T03:46:56.839506Z",
     "iopub.status.busy": "2024-04-12T03:46:56.838602Z",
     "iopub.status.idle": "2024-04-12T03:49:27.351860Z",
     "shell.execute_reply": "2024-04-12T03:49:27.350032Z"
    },
    "papermill": {
     "duration": 150.549125,
     "end_time": "2024-04-12T03:49:27.354601",
     "exception": false,
     "start_time": "2024-04-12T03:46:56.805476",
     "status": "completed"
    },
    "tags": []
   },
   "outputs": [
    {
     "name": "stdout",
     "output_type": "stream",
     "text": [
      "\u001b[33mWARNING: Retrying (Retry(total=4, connect=None, read=None, redirect=None, status=None)) after connection broken by 'NewConnectionError('<pip._vendor.urllib3.connection.HTTPSConnection object at 0x78c0d34e4970>: Failed to establish a new connection: [Errno -3] Temporary failure in name resolution')': /simple/lazypredict/\u001b[0m\u001b[33m\r\n",
      "\u001b[0m\u001b[33mWARNING: Retrying (Retry(total=3, connect=None, read=None, redirect=None, status=None)) after connection broken by 'NewConnectionError('<pip._vendor.urllib3.connection.HTTPSConnection object at 0x78c0d34e4ca0>: Failed to establish a new connection: [Errno -3] Temporary failure in name resolution')': /simple/lazypredict/\u001b[0m\u001b[33m\r\n",
      "\u001b[0m\u001b[33mWARNING: Retrying (Retry(total=2, connect=None, read=None, redirect=None, status=None)) after connection broken by 'NewConnectionError('<pip._vendor.urllib3.connection.HTTPSConnection object at 0x78c0d34e4f40>: Failed to establish a new connection: [Errno -3] Temporary failure in name resolution')': /simple/lazypredict/\u001b[0m\u001b[33m\r\n",
      "\u001b[0m\u001b[33mWARNING: Retrying (Retry(total=1, connect=None, read=None, redirect=None, status=None)) after connection broken by 'NewConnectionError('<pip._vendor.urllib3.connection.HTTPSConnection object at 0x78c0d34e50f0>: Failed to establish a new connection: [Errno -3] Temporary failure in name resolution')': /simple/lazypredict/\u001b[0m\u001b[33m\r\n",
      "\u001b[0m\u001b[33mWARNING: Retrying (Retry(total=0, connect=None, read=None, redirect=None, status=None)) after connection broken by 'NewConnectionError('<pip._vendor.urllib3.connection.HTTPSConnection object at 0x78c0d34e52a0>: Failed to establish a new connection: [Errno -3] Temporary failure in name resolution')': /simple/lazypredict/\u001b[0m\u001b[33m\r\n",
      "\u001b[0m\u001b[31mERROR: Could not find a version that satisfies the requirement lazypredict (from versions: none)\u001b[0m\u001b[31m\r\n",
      "\u001b[0m\u001b[31mERROR: No matching distribution found for lazypredict\u001b[0m\u001b[31m\r\n",
      "\u001b[0mNote: you may need to restart the kernel to use updated packages.\n"
     ]
    }
   ],
   "source": [
    "pip install lazypredict\n"
   ]
  },
  {
   "cell_type": "code",
   "execution_count": 22,
   "id": "b6b09589",
   "metadata": {
    "execution": {
     "iopub.execute_input": "2024-04-12T03:49:27.387493Z",
     "iopub.status.busy": "2024-04-12T03:49:27.387075Z",
     "iopub.status.idle": "2024-04-12T03:49:28.034895Z",
     "shell.execute_reply": "2024-04-12T03:49:28.033289Z"
    },
    "papermill": {
     "duration": 0.667586,
     "end_time": "2024-04-12T03:49:28.037463",
     "exception": true,
     "start_time": "2024-04-12T03:49:27.369877",
     "status": "failed"
    },
    "tags": []
   },
   "outputs": [
    {
     "ename": "ModuleNotFoundError",
     "evalue": "No module named 'lazypredict'",
     "output_type": "error",
     "traceback": [
      "\u001b[0;31m---------------------------------------------------------------------------\u001b[0m",
      "\u001b[0;31mModuleNotFoundError\u001b[0m                       Traceback (most recent call last)",
      "Cell \u001b[0;32mIn[22], line 1\u001b[0m\n\u001b[0;32m----> 1\u001b[0m \u001b[38;5;28;01mimport\u001b[39;00m \u001b[38;5;21;01mlazypredict\u001b[39;00m\n",
      "\u001b[0;31mModuleNotFoundError\u001b[0m: No module named 'lazypredict'"
     ]
    }
   ],
   "source": [
    "import lazypredict"
   ]
  },
  {
   "cell_type": "code",
   "execution_count": null,
   "id": "ee51e805",
   "metadata": {
    "execution": {
     "iopub.execute_input": "2024-04-12T03:45:56.613394Z",
     "iopub.status.busy": "2024-04-12T03:45:56.612913Z",
     "iopub.status.idle": "2024-04-12T03:45:56.649646Z",
     "shell.execute_reply": "2024-04-12T03:45:56.648089Z",
     "shell.execute_reply.started": "2024-04-12T03:45:56.613351Z"
    },
    "papermill": {
     "duration": null,
     "end_time": null,
     "exception": null,
     "start_time": null,
     "status": "pending"
    },
    "tags": []
   },
   "outputs": [],
   "source": [
    "from lazypredict.Supervised import LazyClassifier\n",
    "clf = LazyClassifier(verbose=0,ignore_warnings=True, custom_metric=None)\n",
    "models,predictions = clf.fit(x_train, x_test, y_train, y_test)\n",
    "\n",
    "print(models,\"\\n\")"
   ]
  },
  {
   "cell_type": "code",
   "execution_count": null,
   "id": "158d4d24",
   "metadata": {
    "execution": {
     "iopub.execute_input": "2024-04-12T03:45:45.165708Z",
     "iopub.status.busy": "2024-04-12T03:45:45.164945Z",
     "iopub.status.idle": "2024-04-12T03:45:45.466761Z",
     "shell.execute_reply": "2024-04-12T03:45:45.465403Z",
     "shell.execute_reply.started": "2024-04-12T03:45:45.165666Z"
    },
    "papermill": {
     "duration": null,
     "end_time": null,
     "exception": null,
     "start_time": null,
     "status": "pending"
    },
    "tags": []
   },
   "outputs": [],
   "source": [
    "rfc =RandomForestClassifier()\n",
    "rfc.fit(x_train,y_train)\n",
    "y_pred = rfc.predict(x_test)\n",
    "print(accuracy_score(y_test,y_pred))\n"
   ]
  },
  {
   "cell_type": "code",
   "execution_count": null,
   "id": "e5e47170",
   "metadata": {
    "execution": {
     "iopub.execute_input": "2024-04-12T03:45:40.834571Z",
     "iopub.status.busy": "2024-04-12T03:45:40.834145Z",
     "iopub.status.idle": "2024-04-12T03:45:40.842441Z",
     "shell.execute_reply": "2024-04-12T03:45:40.841364Z",
     "shell.execute_reply.started": "2024-04-12T03:45:40.834536Z"
    },
    "papermill": {
     "duration": null,
     "end_time": null,
     "exception": null,
     "start_time": null,
     "status": "pending"
    },
    "tags": []
   },
   "outputs": [],
   "source": [
    "print(confusion_matrix(y_test,y_pred))\n"
   ]
  }
 ],
 "metadata": {
  "kaggle": {
   "accelerator": "none",
   "dataSources": [
    {
     "datasetId": 1582403,
     "sourceId": 2603715,
     "sourceType": "datasetVersion"
    }
   ],
   "dockerImageVersionId": 30558,
   "isGpuEnabled": false,
   "isInternetEnabled": false,
   "language": "python",
   "sourceType": "notebook"
  },
  "kernelspec": {
   "display_name": "Python 3",
   "language": "python",
   "name": "python3"
  },
  "language_info": {
   "codemirror_mode": {
    "name": "ipython",
    "version": 3
   },
   "file_extension": ".py",
   "mimetype": "text/x-python",
   "name": "python",
   "nbconvert_exporter": "python",
   "pygments_lexer": "ipython3",
   "version": "3.10.12"
  },
  "papermill": {
   "default_parameters": {},
   "duration": 163.204646,
   "end_time": "2024-04-12T03:49:28.878524",
   "environment_variables": {},
   "exception": true,
   "input_path": "__notebook__.ipynb",
   "output_path": "__notebook__.ipynb",
   "parameters": {},
   "start_time": "2024-04-12T03:46:45.673878",
   "version": "2.4.0"
  }
 },
 "nbformat": 4,
 "nbformat_minor": 5
}
